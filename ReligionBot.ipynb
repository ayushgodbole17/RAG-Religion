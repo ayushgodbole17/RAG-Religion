{
 "cells": [
  {
   "cell_type": "code",
   "execution_count": 1,
   "id": "04974d1f-7798-447a-8bb1-5f781aebc0da",
   "metadata": {},
   "outputs": [],
   "source": [
    "import argparse\n",
    "import os\n",
    "from dotenv import load_dotenv\n",
    "import shutil\n",
    "from langchain.document_loaders.pdf import PyPDFDirectoryLoader\n",
    "from langchain_text_splitters import RecursiveCharacterTextSplitter\n",
    "from langchain.schema.document import Document\n",
    "from langchain_chroma import Chroma\n",
    "from langchain_community.embeddings.bedrock import BedrockEmbeddings\n",
    "from langchain_openai import OpenAIEmbeddings\n",
    "from langchain.document_loaders.pdf import PyPDFDirectoryLoader as PPDL\n",
    "\n",
    "load_dotenv()\n",
    "api_key = os.getenv(\"OPENAI_API_KEY\")\n",
    "\n",
    "CHROMA_PATH = \"chroma\"\n",
    "DATA_PATH = \"pdfs\""
   ]
  },
  {
   "cell_type": "code",
   "execution_count": 2,
   "id": "c71a896f-4370-482f-ad4a-0cb241499a8f",
   "metadata": {},
   "outputs": [
    {
     "name": "stdout",
     "output_type": "stream",
     "text": [
      "6146\n"
     ]
    }
   ],
   "source": [
    "def load_docs():\n",
    "    doc_loader = PPDL(DATA_PATH)\n",
    "    return doc_loader.load()\n",
    "\n",
    "docs = load_docs()\n",
    "print(len(docs))"
   ]
  },
  {
   "cell_type": "code",
   "execution_count": 3,
   "id": "5eb3e654-ee6b-41e4-afab-b10c18379f74",
   "metadata": {},
   "outputs": [
    {
     "name": "stdout",
     "output_type": "stream",
     "text": [
      "len chunks:  12185\n"
     ]
    }
   ],
   "source": [
    "def split_docs(docs: list[Document]):\n",
    "    text_splitter = RecursiveCharacterTextSplitter(\n",
    "        chunk_size = 1000,\n",
    "        chunk_overlap = 100,\n",
    "        length_function = len,\n",
    "        is_separator_regex = False\n",
    "    )\n",
    "    return text_splitter.split_documents(docs)\n",
    "\n",
    "chunks = split_docs(docs)\n",
    "print(\"len chunks: \", len(chunks))"
   ]
  },
  {
   "cell_type": "code",
   "execution_count": 4,
   "id": "c48b1dbb-be17-48aa-aca9-049239f8119d",
   "metadata": {},
   "outputs": [],
   "source": [
    "def add_to_chroma(chunks: list[Document]):\n",
    "    db = Chroma(persist_directory=CHROMA_PATH, embedding_function=embed_fn())\n",
    "    chunks_with_ids = calculate_chunk_ids(chunks)\n",
    "\n",
    "    # Add or Update the documents.\n",
    "    existing_items = db.get(include=[])  # IDs are always included by default\n",
    "    existing_ids = set(existing_items[\"ids\"])\n",
    "    print(f\"Number of existing documents in DB: {len(existing_ids)}\")\n",
    "\n",
    "    # Only add documents that don't exist in the DB.\n",
    "    new_chunks = []\n",
    "    for chunk in chunks_with_ids:\n",
    "        if chunk.metadata[\"id\"] not in existing_ids:\n",
    "            new_chunks.append(chunk)\n",
    "\n",
    "    if len(new_chunks):\n",
    "        print(f\"Adding new documents: {len(new_chunks)}\")\n",
    "        new_chunk_ids = [chunk.metadata[\"id\"] for chunk in new_chunks]\n",
    "        db.add_documents(new_chunks, ids=new_chunk_ids)\n",
    "    else:\n",
    "        print(\"No new documents to add\")"
   ]
  },
  {
   "cell_type": "code",
   "execution_count": 5,
   "id": "11bcd334-5b5e-42a7-b399-58ca5a0f73dc",
   "metadata": {},
   "outputs": [],
   "source": [
    "def calculate_chunk_ids(chunks):\n",
    "    # ID structre: Page Source : Page Number : Chunk Index\n",
    "\n",
    "    last_page_id = None\n",
    "    current_chunk_index = 0\n",
    "\n",
    "    for chunk in chunks:\n",
    "        source = chunk.metadata.get(\"source\")\n",
    "        page = chunk.metadata.get(\"page\")\n",
    "        current_page_id = f\"{source}:{page}\"\n",
    "\n",
    "        # If the page ID is the same as the last one, increment the index.\n",
    "        if current_page_id == last_page_id:\n",
    "            current_chunk_index += 1\n",
    "        else:\n",
    "            current_chunk_index = 0\n",
    "\n",
    "        # Calculate the chunk ID.\n",
    "        chunk_id = f\"{current_page_id}:{current_chunk_index}\"\n",
    "        last_page_id = current_page_id\n",
    "        chunk.metadata[\"id\"] = chunk_id\n",
    "\n",
    "    return chunks"
   ]
  },
  {
   "cell_type": "code",
   "execution_count": 6,
   "id": "e1a81e72-9f39-4820-98d7-a362fd867c80",
   "metadata": {},
   "outputs": [],
   "source": [
    "def clear_database():\n",
    "    if os.path.exists(CHROMA_PATH):\n",
    "        shutil.rmtree(CHROMA_PATH)"
   ]
  },
  {
   "cell_type": "code",
   "execution_count": 7,
   "id": "f39a033b-531a-4791-8af7-eb15fb1d91ce",
   "metadata": {},
   "outputs": [],
   "source": [
    "def embed_fn():\n",
    "    embeddings = OpenAIEmbeddings(api_key = api_key)\n",
    "    return embeddings"
   ]
  },
  {
   "cell_type": "code",
   "execution_count": 8,
   "id": "0600665e-5d70-43a5-9703-41865a30642d",
   "metadata": {},
   "outputs": [
    {
     "name": "stdout",
     "output_type": "stream",
     "text": [
      "Number of existing documents in DB: 12185\n",
      "No new documents to add\n"
     ]
    }
   ],
   "source": [
    "chunks = split_docs(docs)\n",
    "add_to_chroma(chunks)"
   ]
  },
  {
   "cell_type": "code",
   "execution_count": 9,
   "id": "8b031497-33d9-492f-b39c-46c0b8f990ac",
   "metadata": {},
   "outputs": [],
   "source": [
    "from langchain.prompts import ChatPromptTemplate\n",
    "from langchain_community.llms.ollama import Ollama\n",
    "from langchain_openai import ChatOpenAI\n",
    "\n",
    "PROMPT_TEMPLATE = \"\"\"\n",
    "Answer the question based only on the following context:\n",
    "\n",
    "{context}\n",
    "\n",
    "---\n",
    "\n",
    "Answer the question based on the above context: {question}\n",
    "\"\"\"\n",
    "\n",
    "def query_rag(query_text: str):\n",
    "    embedding_function = embed_fn()\n",
    "    db = Chroma(persist_directory=CHROMA_PATH, embedding_function=embedding_function)\n",
    "\n",
    "    results = db.similarity_search_with_score(query_text, k=5)\n",
    "\n",
    "    context_text = \"\\n\\n---\\n\\n\".join([doc.page_content for doc, _score in results])\n",
    "    prompt_template = ChatPromptTemplate.from_template(PROMPT_TEMPLATE)\n",
    "    prompt = prompt_template.format(context=context_text, question=query_text)\n",
    "    \n",
    "    model = ChatOpenAI(model=\"gpt-4o-mini\", api_key = api_key)\n",
    "    response_text = model.invoke(prompt)\n",
    "    sources = [doc.metadata.get(\"id\", None) for doc, _score in results]\n",
    "    formatted_response = f\"Response: {response_text}\\nSources: {sources}\"\n",
    "    return response_text\n"
   ]
  },
  {
   "cell_type": "code",
   "execution_count": 10,
   "id": "6a16743c-51a4-425f-9124-4be41b945112",
   "metadata": {},
   "outputs": [
    {
     "name": "stdin",
     "output_type": "stream",
     "text": [
      "Ask your religious question: Does God exist? What do different religions have to say about this?\n"
     ]
    },
    {
     "name": "stdout",
     "output_type": "stream",
     "text": [
      "==================================\u001b[1m Ai Message \u001b[0m==================================\n",
      "\n",
      "The provided context emphasizes the existence of Allah as the creator of the heavens and the earth, the one who provides life and sustenance, and the ultimate judge of all matters. It presents Allah's attributes of being all-capable, all-knowing, and merciful, asserting that everything belongs to Him and that He is sufficient for those who put their trust in Him. \n",
      "\n",
      "The context addresses polytheists, questioning their beliefs in multiple gods, and highlights that they acknowledge Allah as the creator yet continue to associate partners with Him. The text suggests that the understanding of the divine is often clouded by misunderstanding and misbelief among those who worship idols or multiple deities.\n",
      "\n",
      "While the context strongly affirms the existence of Allah from an Islamic perspective, the question of God's existence is interpreted differently across various religions. Monotheistic religions like Christianity and Judaism also assert the existence of a single, all-powerful God, but their understandings and attributes may differ. Meanwhile, polytheistic beliefs may involve multiple gods with different powers and characteristics, which the context argues against as insufficient compared to the singular authority of Allah.\n",
      "\n",
      "Thus, based on the context, it is clear that Islam upholds the belief in one God (Allah), while recognizing that different religions have varying beliefs regarding the nature and existence of divinity.\n"
     ]
    }
   ],
   "source": [
    "query = input(\"Ask your religious question:\")\n",
    "response = query_rag(query)\n",
    "response.pretty_print()"
   ]
  },
  {
   "cell_type": "code",
   "execution_count": null,
   "id": "576fcde3-2a05-445b-9073-ab8b3629cd38",
   "metadata": {},
   "outputs": [],
   "source": []
  }
 ],
 "metadata": {
  "kernelspec": {
   "display_name": "Python 3 (ipykernel)",
   "language": "python",
   "name": "python3"
  },
  "language_info": {
   "codemirror_mode": {
    "name": "ipython",
    "version": 3
   },
   "file_extension": ".py",
   "mimetype": "text/x-python",
   "name": "python",
   "nbconvert_exporter": "python",
   "pygments_lexer": "ipython3",
   "version": "3.9.20"
  }
 },
 "nbformat": 4,
 "nbformat_minor": 5
}
